{
 "cells": [
  {
   "cell_type": "code",
   "execution_count": 1,
   "metadata": {},
   "outputs": [
    {
     "name": "stderr",
     "output_type": "stream",
     "text": [
      "d:\\Projects\\TesisGabriel\\detector-parkinson\\server\\env\\Lib\\site-packages\\tqdm\\auto.py:21: TqdmWarning: IProgress not found. Please update jupyter and ipywidgets. See https://ipywidgets.readthedocs.io/en/stable/user_install.html\n",
      "  from .autonotebook import tqdm as notebook_tqdm\n"
     ]
    }
   ],
   "source": [
    "import pandas as pd\n",
    "from sklearn.preprocessing import MinMaxScaler\n",
    "from imblearn.over_sampling import SMOTE\n",
    "from sklearn.model_selection import cross_validate,cross_val_score,train_test_split\n",
    "from sklearn.ensemble import VotingClassifier, RandomForestClassifier\n",
    "from sklearn.neighbors import KNeighborsClassifier\n",
    "from sklearn.svm import SVC\n",
    "from sklearn.metrics import accuracy_score, classification_report, confusion_matrix, precision_score, f1_score\n",
    "\n",
    "import joblib\n",
    "import parselmouth\n",
    "from parselmouth.praat import call\n",
    "from scipy.io import wavfile\n",
    "from pyrpde import  rpde\n",
    "import re\n",
    "import numpy as np\n",
    "import IPython.display as ipd\n",
    "import librosa\n",
    "import noisereduce as nr"
   ]
  },
  {
   "cell_type": "code",
   "execution_count": 10,
   "metadata": {},
   "outputs": [
    {
     "data": {
      "text/plain": [
       "subject#         5875\n",
       "age              5875\n",
       "sex              5875\n",
       "test_time        5875\n",
       "motor_UPDRS      5875\n",
       "total_UPDRS      5875\n",
       "Jitter(%)        5875\n",
       "Jitter(Abs)      5875\n",
       "Jitter:RAP       5875\n",
       "Jitter:PPQ5      5875\n",
       "Jitter:DDP       5875\n",
       "Shimmer          5875\n",
       "Shimmer(dB)      5875\n",
       "Shimmer:APQ3     5875\n",
       "Shimmer:APQ5     5875\n",
       "Shimmer:APQ11    5875\n",
       "Shimmer:DDA      5875\n",
       "NHR              5875\n",
       "HNR              5875\n",
       "RPDE             5875\n",
       "DFA              5875\n",
       "PPE              5875\n",
       "dtype: int64"
      ]
     },
     "execution_count": 10,
     "metadata": {},
     "output_type": "execute_result"
    }
   ],
   "source": [
    "dataset = pd.read_csv(\"./parkinsons_updrs.data\")\n",
    "# df = dataset.drop(['name','status'], axis=1)\n",
    "# df = dataset.drop([\"name\",\"RPDE\",\"DFA\",\"spread1\",\"spread2\",\"D2\",\"PPE\"], axis=1)\n",
    "colums = [\"Jitter(%)\",\"Jitter(Abs)\",\"Jitter:RAP\",\"Jitter:PPQ5\",\"Jitter:DDP\",\"Shimmer\",\"Shimmer(dB)\",\"Shimmer:APQ3\",\"Shimmer:APQ5\",\"Shimmer:APQ11\",\"Shimmer:DDA\",\"NHR\",\"HNR\"]\n",
    "df = dataset[colums]\n",
    "dataset.count()"
   ]
  },
  {
   "cell_type": "code",
   "execution_count": 190,
   "metadata": {},
   "outputs": [
    {
     "data": {
      "text/plain": [
       "MDVP:Fo(Hz)         287\n",
       "MDVP:Fhi(Hz)        287\n",
       "MDVP:Flo(Hz)        287\n",
       "MDVP:Jitter(%)      287\n",
       "MDVP:Jitter(Abs)    287\n",
       "MDVP:RAP            287\n",
       "MDVP:PPQ            287\n",
       "Jitter:DDP          287\n",
       "MDVP:Shimmer        287\n",
       "MDVP:Shimmer(dB)    287\n",
       "Shimmer:APQ3        287\n",
       "Shimmer:APQ5        287\n",
       "MDVP:APQ            287\n",
       "Shimmer:DDA         287\n",
       "NHR                 287\n",
       "HNR                 287\n",
       "status              287\n",
       "dtype: int64"
      ]
     },
     "execution_count": 190,
     "metadata": {},
     "output_type": "execute_result"
    }
   ],
   "source": [
    "#MDVP:Fo(Hz)\",\"MDVP:Fhi(Hz)\",\"MDVP:Flo(Hz)\",\"MDVP:Jitter(%)\",\"MDVP:Jitter(Abs)\",\"MDVP:RAP\",\"MDVP:PPQ\",\"Jitter:DDP\",\"MDVP:Shimmer\",\"MDVP:Shimmer(dB)\",\"Shimmer:APQ3\",\"Shimmer:APQ5\",\"MDVP:APQ\",\"Shimmer:DDA\",\"NHR\",\"HNR\",\"status\n",
    "dataset2 = pd.read_csv(\"./data/dataset-kaggle.csv\")\n",
    "columns = [\"Median Pitch\",\"Maximum pitch\",\"Minimum pitch\",\"Jitter(local)\",\"Jitter(local, absolute)\",\"Jitter (rap)\",\"Jitter (ppq5)\",\"Jitter (ddp)\",\"Shimmer (local)\",\"Shimmer (local, db)\",\"Shimmer (apq3)\",\"Shimmer (apq5)\",\"Shimmer (apq11)\",\"Shimmer (dda)\",\"NDH\",\"HTM\",\"status\"]\n",
    "df2 = dataset2[columns]\n",
    "df2 = df2.rename(columns={\n",
    "    \"Median Pitch\":\"MDVP:Fo(Hz)\",\"Maximum pitch\":\"MDVP:Fhi(Hz)\",\"Minimum pitch\":\"MDVP:Flo(Hz)\",\"Jitter(local)\":\"MDVP:Jitter(%)\",\"Jitter(local, absolute)\":\"MDVP:Jitter(Abs)\",\"Jitter (rap)\":\"MDVP:RAP\",\"Jitter (ppq5)\":\"MDVP:PPQ\",\"Jitter (ddp)\":\"Jitter:DDP\",\"Shimmer (local)\":\"MDVP:Shimmer\",\"Shimmer (local, db)\":\"MDVP:Shimmer(dB)\",\"Shimmer (apq3)\":\"Shimmer:APQ3\",\"Shimmer (apq5)\":\"Shimmer:APQ5\",\"Shimmer (apq11)\":\"MDVP:APQ\",\"Shimmer (dda)\":\"Shimmer:DDA\",\"NDH\":\"NHR\",\"HTM\":\"HNR\"\n",
    "})\n",
    "df3 =  pd.read_csv(\"./data/dataset.csv\")\n",
    "df3[\"status\"] = 0\n",
    "df_result = pd.concat([df,df2,df3],axis=0, ignore_index=True)\n",
    "df_result.count()\n"
   ]
  },
  {
   "cell_type": "code",
   "execution_count": 191,
   "metadata": {},
   "outputs": [],
   "source": [
    "X = df_result.iloc[:,:-1]\n",
    "y = df_result['status']\n",
    "sm = SMOTE(random_state=300)\n",
    "X, y = sm.fit_resample(X,y)\n",
    "scaler = MinMaxScaler((-1,1))\n",
    "X_features = scaler.fit_transform(X)\n",
    "Y_labels = y\n"
   ]
  },
  {
   "cell_type": "code",
   "execution_count": 223,
   "metadata": {},
   "outputs": [
    {
     "name": "stdout",
     "output_type": "stream",
     "text": [
      "Precisión: 1.00\n",
      "Sensibilidad: 0.96\n",
      "Puntuación F1: 0.98\n",
      "Exactitud: 0.98\n",
      "Especificidad: 1.00\n"
     ]
    },
    {
     "data": {
      "text/plain": [
       "['./export/scaler.pkl']"
      ]
     },
     "execution_count": 223,
     "metadata": {},
     "output_type": "execute_result"
    }
   ],
   "source": [
    "validation_size = 0.2\n",
    "\n",
    "seed = 20\n",
    "\n",
    "X_train, X_validation, Y_train, Y_validation = train_test_split(X_features,Y_labels, test_size=validation_size, random_state=seed)\n",
    "num_instances = len(X_train)\n",
    "\n",
    "scoring = 'accuracy'\n",
    "results = []\n",
    "rfc = RandomForestClassifier()\n",
    "rfc.fit(X_train, Y_train)\n",
    "\n",
    "svmc = SVC(kernel='linear')\n",
    "svmc.fit(X_train, Y_train)\n",
    "\n",
    "knnc = KNeighborsClassifier(n_neighbors=5)\n",
    "knnc.fit(X_train, Y_train)\n",
    "\n",
    "\n",
    "eclf = VotingClassifier(estimators=[('rf', rfc),('knn',knnc),('svc', svmc)], voting='soft')\n",
    "eclf.fit(X_train, Y_train)\n",
    "predictions = rfc.predict(X_validation)\n",
    "cm = confusion_matrix(Y_validation, predictions)\n",
    "\n",
    "TN, FP, FN, TP = cm.ravel()\n",
    "report = classification_report(Y_validation, predictions, output_dict=True)\n",
    "\n",
    "exactitud = accuracy_score(Y_validation, predictions)\n",
    "sensibilidad = TP / (TP + FN)\n",
    "especificidad = TN / (TN + FP)\n",
    "precision = precision_score(Y_validation, predictions)\n",
    "f1 = f1_score(Y_validation, predictions)\n",
    "\n",
    "print(f\"Precisión: {precision:.2f}\")\n",
    "print(f\"Sensibilidad: {sensibilidad:.2f}\")\n",
    "print(f\"Puntuación F1: {f1:.2f}\")\n",
    "print(f\"Exactitud: {exactitud:.2f}\")\n",
    "print(f\"Especificidad: {especificidad:.2f}\")\n",
    "\n",
    "joblib.dump(rfc, './export/modelo.pkl')\n",
    "joblib.dump(scaler, './export/scaler.pkl')"
   ]
  },
  {
   "cell_type": "code",
   "execution_count": 224,
   "metadata": {},
   "outputs": [],
   "source": [
    "def measurePitch(sound, unit, startTime, endTime,f0min,f0max):\n",
    "\n",
    "    pitch = call(sound, \"To Pitch\", float(startTime), 75, 300) \n",
    "\n",
    "    meanF0 = call(pitch, \"Get mean\", startTime, endTime, unit) \n",
    "\n",
    "    maxf0 = call(pitch, \"Get maximum\", startTime, endTime, unit, \"Parabolic\")\n",
    "\n",
    "    minf0 = call(pitch, \"Get minimum\", startTime, endTime, unit, \"Parabolic\")\n",
    "\n",
    "    pointProcess = call(sound, \"To PointProcess (periodic, cc)\", f0min, f0max)\n",
    "\n",
    "    localJitter = call(pointProcess, \"Get jitter (local)\", startTime, endTime, 0.0001, 0.02, 1.3)\n",
    "\n",
    "    pulses = call([sound, pitch], \"To PointProcess (cc)\")\n",
    "    voice_report = call([sound, pitch, pulses], \"Voice report\", startTime, endTime, f0min, f0max, 1.3, 1.6, 0.03, 0.45)\n",
    "    voice_report_array=re.findall(r'-?\\d+\\.?\\d*',voice_report)\n",
    "    hnr = voice_report_array[-1]\n",
    "    nhr = voice_report_array[-2]\n",
    "    localabsoluteJitter = call(pointProcess, \"Get jitter (local, absolute)\", startTime, endTime, 0.0001, 0.02, 1.3)\n",
    "\n",
    "    rapJitter = call(pointProcess, \"Get jitter (rap)\", startTime, endTime, 0.0001, 0.02, 1.3)\n",
    "\n",
    "    ppq5Jitter = call(pointProcess, \"Get jitter (ppq5)\", startTime, endTime, 0.0001, 0.02, 1.3)\n",
    "\n",
    "    ddpJitter = call(pointProcess, \"Get jitter (ddp)\", startTime, endTime, 0.0001, 0.02, 1.3)\n",
    "\n",
    "    localShimmer =  call([sound, pointProcess], \"Get shimmer (local)\", startTime, endTime, 0.0001, 0.02, 1.3, 1.6)\n",
    "\n",
    "    localdbShimmer = call([sound, pointProcess], \"Get shimmer (local_dB)\", startTime, endTime, 0.0001, 0.02, 1.3, 1.6)\n",
    "\n",
    "    apq3Shimmer = call([sound, pointProcess], \"Get shimmer (apq3)\", startTime, endTime, 0.0001, 0.02, 1.3, 1.6)\n",
    "\n",
    "    apq5Shimmer = call([sound, pointProcess], \"Get shimmer (apq5)\", startTime, endTime, 0.0001, 0.02, 1.3, 1.6)\n",
    "\n",
    "    apq11Shimmer =  call([sound, pointProcess], \"Get shimmer (apq11)\", startTime, endTime, 0.0001, 0.02, 1.3, 1.6)\n",
    "\n",
    "    ddaShimmer = call([sound, pointProcess], \"Get shimmer (dda)\", startTime, endTime, 0.0001, 0.02, 1.3, 1.6)\n",
    "\n",
    "    return meanF0,maxf0,minf0,localJitter,localabsoluteJitter, rapJitter, ppq5Jitter,ddpJitter,localShimmer,localdbShimmer,apq3Shimmer, apq5Shimmer, apq11Shimmer,ddaShimmer, nhr, hnr"
   ]
  },
  {
   "cell_type": "code",
   "execution_count": 225,
   "metadata": {},
   "outputs": [],
   "source": [
    "def noiseReduce (sound_file):\n",
    "    y, sr = librosa.load(sound_file, sr=None)\n",
    "    reduced_noise = nr.reduce_noise(y=y, sr=sr, prop_decrease=0.2)\n",
    "    sound = parselmouth.Sound(reduced_noise)\n",
    "    return sound"
   ]
  },
  {
   "cell_type": "code",
   "execution_count": 230,
   "metadata": {},
   "outputs": [],
   "source": [
    "sound_file = \"./uploaded_files/EvaMachado.wav\"\n",
    "\n",
    "sound = parselmouth.Sound(sound_file)\n",
    "# sound = noiseReduce(sound_file)\n",
    "f0min = 75\n",
    "f0max = 300\n",
    "startTime = 0\n",
    "endTime = 0\n",
    "unit = \"Hertz\"\n",
    "\n",
    "\n",
    "(meanF0,maxf0,minf0,localJitter,localabsoluteJitter, rapJitter, ppq5Jitter,ddpJitter,localShimmer,localdbShimmer,apq3Shimmer, apq5Shimmer, apq11Shimmer,ddaShimmer, nhr, hnr) = measurePitch(\n",
    "    sound, unit, startTime, endTime, f0min, f0max)\n"
   ]
  },
  {
   "cell_type": "code",
   "execution_count": 231,
   "metadata": {},
   "outputs": [
    {
     "name": "stdout",
     "output_type": "stream",
     "text": [
      "No Parkinson\n"
     ]
    },
    {
     "name": "stderr",
     "output_type": "stream",
     "text": [
      "d:\\Projects\\TesisGabriel\\detector-parkinson\\server\\env\\Lib\\site-packages\\sklearn\\base.py:493: UserWarning: X does not have valid feature names, but MinMaxScaler was fitted with feature names\n",
      "  warnings.warn(\n"
     ]
    }
   ],
   "source": [
    "dataframe = pd.DataFrame(np.column_stack([meanF0,maxf0,minf0,localJitter,localabsoluteJitter, rapJitter, ppq5Jitter,ddpJitter,localShimmer,localdbShimmer,apq3Shimmer, apq5Shimmer, apq11Shimmer,ddaShimmer, nhr, hnr]), \n",
    "                  columns=[\"MDVP:Fo(Hz)\",\"MDVP:Fhi(Hz)\",\"MDVP:Flo(Hz)\",\"MDVP:Jitter(%)\",\"MDVP:Jitter(Abs)\",\"MDVP:RAP\",\"MDVP:PPQ\",\"Jitter:DDP\",\"MDVP:Shimmer\",\"MDVP:Shimmer(dB)\",\"Shimmer:APQ3\",\"Shimmer:APQ5\",\"MDVP:APQ\",\"Shimmer:DDA\",\"NHR\",\"HNR\"])\n",
    "# dataframe = dataframe.apply(pd.to_numeric, errors=\"coerce\")\n",
    "dataframe.head()\n",
    "# dataframe.to_csv('./data/dataset2.csv', index=False)\n",
    "model = joblib.load(\"./export/modelo.pkl\")\n",
    "scaler = joblib.load(\"./export/scaler.pkl\")\n",
    "#No Parkinson Data\n",
    "parkinson_data = np.array([[119.99200,157.30200,74.99700,0.00784,0.00007,0.00370,0.00554,0.01109,0.04374,0.42600,0.02182,0.03130,0.02971,0.06545,0.02211,21.03300]])\n",
    "#Parkinson Data\n",
    "no_parkinson_data = np.array([[202.26600,211.60400,197.07900,0.00180,0.000009,0.00093,0.00107,0.00278,0.00954,0.08500,0.00469,0.00606,0.00719,0.01407,0.00072,32.684001]])\n",
    "\n",
    "scaled_new_data = scaler.transform(dataframe.values)\n",
    "prediction = model.predict(scaled_new_data)\n",
    "if (prediction[0] == 1):\n",
    "    print(\"Parkinson\")\n",
    "else:\n",
    "    print(\"No Parkinson\")"
   ]
  }
 ],
 "metadata": {
  "kernelspec": {
   "display_name": "env",
   "language": "python",
   "name": "python3"
  },
  "language_info": {
   "codemirror_mode": {
    "name": "ipython",
    "version": 3
   },
   "file_extension": ".py",
   "mimetype": "text/x-python",
   "name": "python",
   "nbconvert_exporter": "python",
   "pygments_lexer": "ipython3",
   "version": "3.12.5"
  }
 },
 "nbformat": 4,
 "nbformat_minor": 2
}
